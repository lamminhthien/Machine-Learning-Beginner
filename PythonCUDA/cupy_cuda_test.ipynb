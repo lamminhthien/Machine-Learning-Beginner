{
 "cells": [
  {
   "cell_type": "code",
   "execution_count": 6,
   "metadata": {},
   "outputs": [],
   "source": [
    "import cupy as cp"
   ]
  },
  {
   "cell_type": "code",
   "execution_count": 7,
   "id": "d5eb2b9c",
   "metadata": {},
   "outputs": [],
   "source": [
    "x = cp.arange(6).reshape(2,3).astype('f')"
   ]
  },
  {
   "cell_type": "code",
   "execution_count": 8,
   "id": "2ad8c689",
   "metadata": {},
   "outputs": [
    {
     "data": {
      "text/plain": [
       "array([[0., 1., 2.],\n",
       "       [3., 4., 5.]], dtype=float32)"
      ]
     },
     "execution_count": 8,
     "metadata": {},
     "output_type": "execute_result"
    }
   ],
   "source": [
    "x"
   ]
  },
  {
   "cell_type": "code",
   "execution_count": 9,
   "id": "cc8aa1f6",
   "metadata": {},
   "outputs": [
    {
     "data": {
      "text/plain": [
       "array([ 3., 12.], dtype=float32)"
      ]
     },
     "execution_count": 9,
     "metadata": {},
     "output_type": "execute_result"
    }
   ],
   "source": [
    "x.sum(axis=1)"
   ]
  },
  {
   "cell_type": "code",
   "execution_count": 14,
   "id": "ce3532fd",
   "metadata": {},
   "outputs": [
    {
     "name": "stdout",
     "output_type": "stream",
     "text": [
      "Collecting package metadata (current_repodata.json): done\n",
      "Solving environment: failed with initial frozen solve. Retrying with flexible solve.\n",
      "Collecting package metadata (repodata.json): done\n",
      "Solving environment: failed with initial frozen solve. Retrying with flexible solve.\n",
      "\n",
      "PackagesNotFoundError: The following packages are not available from current channels:\n",
      "\n",
      "  - ipython-notebook\n",
      "\n",
      "Current channels:\n",
      "\n",
      "  - https://repo.anaconda.com/pkgs/main/linux-64\n",
      "  - https://repo.anaconda.com/pkgs/main/noarch\n",
      "  - https://repo.anaconda.com/pkgs/r/linux-64\n",
      "  - https://repo.anaconda.com/pkgs/r/noarch\n",
      "\n",
      "To search for alternate channels that may provide the conda package you're\n",
      "looking for, navigate to\n",
      "\n",
      "    https://anaconda.org\n",
      "\n",
      "and use the search bar at the top of the page.\n",
      "\n",
      "\n"
     ]
    }
   ],
   "source": [
    "!conda install ipython-notebook"
   ]
  },
  {
   "cell_type": "code",
   "execution_count": 16,
   "id": "45092a4c",
   "metadata": {},
   "outputs": [
    {
     "name": "stdout",
     "output_type": "stream",
     "text": [
      "Requirement already satisfied: ipython in /home/lamminhthien/anaconda3/lib/python3.9/site-packages (8.2.0)\n",
      "Requirement already satisfied: pygments>=2.4.0 in /home/lamminhthien/anaconda3/lib/python3.9/site-packages (from ipython) (2.11.2)\n",
      "Requirement already satisfied: jedi>=0.16 in /home/lamminhthien/anaconda3/lib/python3.9/site-packages (from ipython) (0.18.1)\n",
      "Requirement already satisfied: backcall in /home/lamminhthien/anaconda3/lib/python3.9/site-packages (from ipython) (0.2.0)\n",
      "Requirement already satisfied: pexpect>4.3 in /home/lamminhthien/anaconda3/lib/python3.9/site-packages (from ipython) (4.8.0)\n",
      "Requirement already satisfied: decorator in /home/lamminhthien/anaconda3/lib/python3.9/site-packages (from ipython) (5.1.1)\n",
      "Requirement already satisfied: prompt-toolkit!=3.0.0,!=3.0.1,<3.1.0,>=2.0.0 in /home/lamminhthien/anaconda3/lib/python3.9/site-packages (from ipython) (3.0.20)\n",
      "Requirement already satisfied: setuptools>=18.5 in /home/lamminhthien/anaconda3/lib/python3.9/site-packages (from ipython) (61.2.0)\n",
      "Requirement already satisfied: stack-data in /home/lamminhthien/anaconda3/lib/python3.9/site-packages (from ipython) (0.2.0)\n",
      "Requirement already satisfied: pickleshare in /home/lamminhthien/anaconda3/lib/python3.9/site-packages (from ipython) (0.7.5)\n",
      "Requirement already satisfied: matplotlib-inline in /home/lamminhthien/anaconda3/lib/python3.9/site-packages (from ipython) (0.1.2)\n",
      "Requirement already satisfied: traitlets>=5 in /home/lamminhthien/anaconda3/lib/python3.9/site-packages (from ipython) (5.1.1)\n",
      "Requirement already satisfied: parso<0.9.0,>=0.8.0 in /home/lamminhthien/anaconda3/lib/python3.9/site-packages (from jedi>=0.16->ipython) (0.8.3)\n",
      "Requirement already satisfied: ptyprocess>=0.5 in /home/lamminhthien/anaconda3/lib/python3.9/site-packages (from pexpect>4.3->ipython) (0.7.0)\n",
      "Requirement already satisfied: wcwidth in /home/lamminhthien/anaconda3/lib/python3.9/site-packages (from prompt-toolkit!=3.0.0,!=3.0.1,<3.1.0,>=2.0.0->ipython) (0.2.5)\n",
      "Requirement already satisfied: asttokens in /home/lamminhthien/anaconda3/lib/python3.9/site-packages (from stack-data->ipython) (2.0.5)\n",
      "Requirement already satisfied: pure-eval in /home/lamminhthien/anaconda3/lib/python3.9/site-packages (from stack-data->ipython) (0.2.2)\n",
      "Requirement already satisfied: executing in /home/lamminhthien/anaconda3/lib/python3.9/site-packages (from stack-data->ipython) (0.8.3)\n",
      "Requirement already satisfied: six in /home/lamminhthien/anaconda3/lib/python3.9/site-packages (from asttokens->stack-data->ipython) (1.16.0)\n"
     ]
    }
   ],
   "source": [
    "!pip install ipython"
   ]
  },
  {
   "cell_type": "code",
   "execution_count": 15,
   "id": "7a019db9",
   "metadata": {},
   "outputs": [
    {
     "ename": "ModuleNotFoundError",
     "evalue": "No module named 'IPython.html'",
     "output_type": "error",
     "traceback": [
      "\u001b[0;31m---------------------------------------------------------------------------\u001b[0m",
      "\u001b[0;31mModuleNotFoundError\u001b[0m                       Traceback (most recent call last)",
      "\u001b[1;32m/home/lamminhthien/Code/Machine-Learning-Beginner/PythonCUDA/cupy_cuda_test.ipynb Cell 7\u001b[0m in \u001b[0;36m<cell line: 5>\u001b[0;34m()\u001b[0m\n\u001b[1;32m      <a href='vscode-notebook-cell:/home/lamminhthien/Code/Machine-Learning-Beginner/PythonCUDA/cupy_cuda_test.ipynb#ch0000005?line=1'>2</a>\u001b[0m \u001b[39mimport\u001b[39;00m \u001b[39mmath\u001b[39;00m\n\u001b[1;32m      <a href='vscode-notebook-cell:/home/lamminhthien/Code/Machine-Learning-Beginner/PythonCUDA/cupy_cuda_test.ipynb#ch0000005?line=2'>3</a>\u001b[0m \u001b[39mimport\u001b[39;00m \u001b[39mnumpy\u001b[39;00m \u001b[39mas\u001b[39;00m \u001b[39mnp\u001b[39;00m\n\u001b[0;32m----> <a href='vscode-notebook-cell:/home/lamminhthien/Code/Machine-Learning-Beginner/PythonCUDA/cupy_cuda_test.ipynb#ch0000005?line=4'>5</a>\u001b[0m \u001b[39mfrom\u001b[39;00m \u001b[39mIPython\u001b[39;00m\u001b[39m.\u001b[39;00m\u001b[39mhtml\u001b[39;00m\u001b[39m.\u001b[39;00m\u001b[39mwidgets\u001b[39;00m \u001b[39mimport\u001b[39;00m interact\n\u001b[1;32m      <a href='vscode-notebook-cell:/home/lamminhthien/Code/Machine-Learning-Beginner/PythonCUDA/cupy_cuda_test.ipynb#ch0000005?line=6'>7</a>\u001b[0m \u001b[39mfrom\u001b[39;00m \u001b[39mnumba\u001b[39;00m \u001b[39mimport\u001b[39;00m jit\n\u001b[1;32m      <a href='vscode-notebook-cell:/home/lamminhthien/Code/Machine-Learning-Beginner/PythonCUDA/cupy_cuda_test.ipynb#ch0000005?line=7'>8</a>\u001b[0m \u001b[39mfrom\u001b[39;00m \u001b[39mbokeh\u001b[39;00m \u001b[39mimport\u001b[39;00m plotting \u001b[39mas\u001b[39;00m bp\n",
      "\u001b[0;31mModuleNotFoundError\u001b[0m: No module named 'IPython.html'"
     ]
    }
   ],
   "source": [
    "import random\n",
    "import math\n",
    "import numpy as np\n",
    "\n",
    "from ipywidgets import interact\n",
    "\n",
    "from numba import jit\n",
    "from bokeh import plotting as bp\n",
    "from bokeh.models import GlyphRenderer, DataRange1d\n",
    "\n",
    "\n",
    "bp.output_notebook()"
   ]
  }
 ],
 "metadata": {
  "kernelspec": {
   "display_name": "Python 3.9.12 ('base')",
   "language": "python",
   "name": "python3"
  },
  "language_info": {
   "codemirror_mode": {
    "name": "ipython",
    "version": 3
   },
   "file_extension": ".py",
   "mimetype": "text/x-python",
   "name": "python",
   "nbconvert_exporter": "python",
   "pygments_lexer": "ipython3",
   "version": "3.9.12"
  },
  "vscode": {
   "interpreter": {
    "hash": "eb15683edae734dbdc194ffc0d7ce11828d5bc4805cb037a0d08d5b968a9fb86"
   }
  }
 },
 "nbformat": 4,
 "nbformat_minor": 5
}
